{
 "cells": [
  {
   "cell_type": "markdown",
   "metadata": {},
   "source": [
    "# Work on Data from SQL"
   ]
  },
  {
   "cell_type": "markdown",
   "metadata": {},
   "source": [
    "## Do the usefulls Imports"
   ]
  },
  {
   "cell_type": "code",
   "execution_count": 1,
   "metadata": {},
   "outputs": [],
   "source": [
    "import json\n",
    "import sqlite3 as sql\n",
    "import pandas as pd\n",
    "from datetime import datetime\n",
    "from datetime import date\n",
    "from functools import reduce\n",
    "\n",
    "with open(\"Localisation.json\",\"r\") as my_file :\n",
    "    dict_localisation = json.load(my_file)"
   ]
  },
  {
   "cell_type": "markdown",
   "metadata": {},
   "source": [
    "## Prepare SQL Connexion and Data Size"
   ]
  },
  {
   "cell_type": "code",
   "execution_count": 2,
   "metadata": {},
   "outputs": [],
   "source": [
    "connexion = sql.connect(\"./bce.db\")\n",
    "data_size = 500000"
   ]
  },
  {
   "cell_type": "markdown",
   "metadata": {},
   "source": [
    "## Extract Table Code from Database and make it a DataFrame"
   ]
  },
  {
   "cell_type": "code",
   "execution_count": 3,
   "metadata": {},
   "outputs": [],
   "source": [
    "df_code_sql = pd.read_sql_query(\"SELECT Category,Code,Description FROM code WHERE code.Language = 'FR'\",connexion)\n",
    "#df_code_sql"
   ]
  },
  {
   "cell_type": "markdown",
   "metadata": {},
   "source": [
    "## Extract List of Category Unique Value and Create a Codes' Dictionary "
   ]
  },
  {
   "cell_type": "code",
   "execution_count": 4,
   "metadata": {},
   "outputs": [],
   "source": [
    "df_code = df_code_sql\n",
    "list_Category = list(df_code[\"Category\"].unique())\n",
    "dict_codes = {category : dict(zip(df_code[df_code[\"Category\"]==category][\"Code\"],df_code[df_code[\"Category\"]==category][\"Description\"])) for category in list_Category}"
   ]
  },
  {
   "cell_type": "markdown",
   "metadata": {},
   "source": [
    "## Extract Table Enterprise from Database and make it a DataFrame"
   ]
  },
  {
   "cell_type": "code",
   "execution_count": 5,
   "metadata": {},
   "outputs": [],
   "source": [
    "df_enterprise_sql = pd.read_sql_query(f\"SELECT EnterpriseNumber,JuridicalSituation,TypeOfEnterprise,JuridicalForm,StartDate FROM enterprise LIMIT {data_size}\",connexion)\n",
    "#df_enterprise_sql"
   ]
  },
  {
   "cell_type": "markdown",
   "metadata": {},
   "source": [
    "## Adjust Enterprise DataFrame Content"
   ]
  },
  {
   "cell_type": "code",
   "execution_count": 6,
   "metadata": {},
   "outputs": [],
   "source": [
    "df_enteprise = df_enterprise_sql\n",
    "df_enteprise = df_enteprise.rename(columns={\"EnterpriseNumber\":\"EntityNumber\"})\n",
    "df_enteprise[\"JuridicalSituation\"] = df_enteprise[\"JuridicalSituation\"].map(dict_codes[\"JuridicalSituation\"])\n",
    "df_enteprise[\"TypeOfEnterprise\"] = df_enteprise[\"TypeOfEnterprise\"].map(dict_codes[\"TypeOfEnterprise\"])\n",
    "df_enteprise[\"JuridicalForm\"] = df_enteprise[\"JuridicalForm\"].map(dict_codes[\"JuridicalForm\"])\n",
    "df_enteprise[\"StartDate\"] = pd.to_datetime(df_enteprise[\"StartDate\"])\n",
    "df_enteprise[\"StartYear\"] = df_enteprise[\"StartDate\"].dt.year\n",
    "df_enteprise[\"Age\"] = date.today().year - df_enteprise[\"StartDate\"].dt.year + date.today().month/12 - df_enteprise[\"StartDate\"].dt.month/12 + date.today().day/365.25 - df_enteprise[\"StartDate\"].dt.day/365.25"
   ]
  },
  {
   "cell_type": "markdown",
   "metadata": {},
   "source": [
    "## Extract Table Denomination from Database and make it a DataFrame"
   ]
  },
  {
   "cell_type": "code",
   "execution_count": 7,
   "metadata": {},
   "outputs": [],
   "source": [
    "df_denomination_sql = pd.read_sql_query(f\"SELECT DISTINCT EntityNumber,Denomination FROM denomination WHERE TypeOfDenomination = '002' LIMIT {data_size}\",connexion)\n",
    "#df_denomination_sql"
   ]
  },
  {
   "cell_type": "markdown",
   "metadata": {},
   "source": [
    "## Adjust Denomination DataFrame Content"
   ]
  },
  {
   "cell_type": "code",
   "execution_count": 8,
   "metadata": {},
   "outputs": [],
   "source": [
    "df_denomination = df_denomination_sql\n",
    "#df_denomination"
   ]
  },
  {
   "cell_type": "markdown",
   "metadata": {},
   "source": [
    "## Extract Table Address from Database and make it a DataFrame"
   ]
  },
  {
   "cell_type": "code",
   "execution_count": 9,
   "metadata": {},
   "outputs": [],
   "source": [
    "df_address_sql = pd.read_sql_query(f\"SELECT DISTINCT EntityNumber,Zipcode FROM address LIMIT {data_size}\",connexion)\n",
    "#df_address_sql"
   ]
  },
  {
   "cell_type": "markdown",
   "metadata": {},
   "source": [
    "## Adjust Table Address DataFrame Content"
   ]
  },
  {
   "cell_type": "code",
   "execution_count": 10,
   "metadata": {},
   "outputs": [],
   "source": [
    "df_address = df_address_sql\n",
    "\n",
    "for key in dict_localisation.keys() :\n",
    "\n",
    "    df_address[key] = df_address[\"Zipcode\"].map(dict_localisation[key])\n",
    "\n",
    "#df_address"
   ]
  },
  {
   "cell_type": "markdown",
   "metadata": {},
   "source": [
    "## Extract Table Activity from Database and make it a DataFrame"
   ]
  },
  {
   "cell_type": "code",
   "execution_count": 11,
   "metadata": {},
   "outputs": [],
   "source": [
    "df_activity_sql = pd.read_sql_query(f\"SELECT EntityNumber,ActivityGroup,NaceCode,Classification FROM activity LIMIT {3*data_size}\",connexion)"
   ]
  },
  {
   "cell_type": "markdown",
   "metadata": {},
   "source": [
    "## Adjust Activity DataFrame Content"
   ]
  },
  {
   "cell_type": "code",
   "execution_count": 12,
   "metadata": {},
   "outputs": [],
   "source": [
    "df_activity = df_activity_sql[[\"EntityNumber\",\"ActivityGroup\",\"Classification\",\"NaceCode\"]]\n",
    "\n",
    "def nace_code_section(row) :\n",
    "\n",
    "    Nace_check = int(int(row[\"NaceCode\"])/1000)\n",
    "\n",
    "    if  Nace_check < 4 :\n",
    "        return \"A\"\n",
    "    elif Nace_check < 10 :\n",
    "        return \"B\"\n",
    "    elif Nace_check < 34 :\n",
    "        return \"C\"\n",
    "    elif Nace_check == 35 :\n",
    "        return \"D\"\n",
    "    elif Nace_check < 40 :\n",
    "        return \"E\"\n",
    "    elif Nace_check < 44 :\n",
    "        return \"F\"\n",
    "    elif Nace_check < 48 :\n",
    "        return \"G\"\n",
    "    elif Nace_check < 54 :\n",
    "        return \"H\"\n",
    "    elif Nace_check < 57 :\n",
    "        return \"I\"\n",
    "    elif Nace_check < 64 :\n",
    "        return \"J\"\n",
    "    elif Nace_check < 67 :\n",
    "        return \"K\"\n",
    "    elif Nace_check == 68 :\n",
    "        return \"L\"\n",
    "    elif Nace_check < 76 :\n",
    "        return \"M\"\n",
    "    elif Nace_check < 83 :\n",
    "        return \"N\"\n",
    "    elif Nace_check == 84 :\n",
    "        return \"O\"\n",
    "    elif Nace_check == 85 :\n",
    "        return \"P\"\n",
    "    elif Nace_check < 89 :\n",
    "        return \"Q\"\n",
    "    elif Nace_check < 94 :\n",
    "        return \"R\"\n",
    "    elif Nace_check < 97 :\n",
    "        return \"S\"\n",
    "    elif Nace_check < 99 :\n",
    "        return \"T\"\n",
    "    elif Nace_check == 99 :\n",
    "        return \"U\"         \n",
    "\n",
    "df_activity[\"ActivityGroup\"]= df_activity[\"ActivityGroup\"].map(dict_codes[\"ActivityGroup\"])\n",
    "df_activity[\"Classification\"]= df_activity[\"Classification\"].map(dict_codes[\"Classification\"])\n",
    "df_activity[\"NaceCodeSection\"] = df_activity.apply(nace_code_section,axis=1)\n",
    "df_activity[\"NaceDescription\"] = df_activity[\"NaceCodeSection\"].map(dict_codes[\"Nace2008\"])\n",
    "df_activity[\"NaceDescription\"] = [str(value)[13:] for value in df_activity[\"NaceDescription\"]]\n",
    "#df_activity"
   ]
  },
  {
   "cell_type": "markdown",
   "metadata": {},
   "source": [
    "## Merge DataFrames and Save as CSV file"
   ]
  },
  {
   "cell_type": "code",
   "execution_count": 13,
   "metadata": {},
   "outputs": [],
   "source": [
    "list_dataframes = [df_activity,df_enteprise,df_denomination,df_address]\n",
    "df_totaly_merged = reduce(lambda df_merged,next_df : pd.merge(df_merged,next_df, how = \"inner\", on = \"EntityNumber\"), list_dataframes)\n",
    "df_totaly_merged.to_csv(\"bce.csv\")\n",
    "#df_totaly_merged"
   ]
  }
 ],
 "metadata": {
  "kernelspec": {
   "display_name": "Python 3.10.6 64-bit",
   "language": "python",
   "name": "python3"
  },
  "language_info": {
   "codemirror_mode": {
    "name": "ipython",
    "version": 3
   },
   "file_extension": ".py",
   "mimetype": "text/x-python",
   "name": "python",
   "nbconvert_exporter": "python",
   "pygments_lexer": "ipython3",
   "version": "3.10.6"
  },
  "orig_nbformat": 4,
  "vscode": {
   "interpreter": {
    "hash": "916dbcbb3f70747c44a77c7bcd40155683ae19c65e1c03b4aa3499c5328201f1"
   }
  }
 },
 "nbformat": 4,
 "nbformat_minor": 2
}
